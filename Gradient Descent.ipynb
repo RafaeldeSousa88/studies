{
 "cells": [
  {
   "cell_type": "code",
   "execution_count": 2,
   "metadata": {},
   "outputs": [],
   "source": [
    "import pandas as pd\n",
    "import numpy as np\n",
    "import matplotlib as mlp"
   ]
  },
  {
   "cell_type": "code",
   "execution_count": 6,
   "metadata": {},
   "outputs": [],
   "source": [
    "class LinearRegression():\n",
    "    def __init__(self) -> None:\n",
    "        pass"
   ]
  },
  {
   "cell_type": "code",
   "execution_count": 4,
   "metadata": {},
   "outputs": [],
   "source": [
    "w = [0, 0]\n",
    "def gd_fit(x, y, learning_rate, num_epochs, w):\n",
    "\tyHat = 0\n",
    "\te = np.array\n",
    "\tfor i in range(num_epochs):\n",
    "\t\tyHat = w[0] + (np.dot(w[1], x[i]))\n",
    "\t\te[i] == y[i] - yHat\n",
    "\n",
    "\t\tw[0] = w[0] + (learning_rate * (1/len(x)) + e[i])\n",
    "\t\tw[1] = w[1] + (learning_rate * (1/len(x)) + e[i])\n",
    "\t\t\n",
    "\treturn w"
   ]
  },
  {
   "cell_type": "code",
   "execution_count": 5,
   "metadata": {},
   "outputs": [],
   "source": [
    "def gd_predict(x, w0, w1):\n",
    "\tfor i in range(len(x)):\n",
    "\t\tyHat[i] = w0 + (w1 * x)\n",
    "\n",
    "\treturn yHat"
   ]
  }
 ],
 "metadata": {
  "kernelspec": {
   "display_name": "Python 3",
   "language": "python",
   "name": "python3"
  },
  "language_info": {
   "codemirror_mode": {
    "name": "ipython",
    "version": 3
   },
   "file_extension": ".py",
   "mimetype": "text/x-python",
   "name": "python",
   "nbconvert_exporter": "python",
   "pygments_lexer": "ipython3",
   "version": "3.11.5"
  }
 },
 "nbformat": 4,
 "nbformat_minor": 2
}
